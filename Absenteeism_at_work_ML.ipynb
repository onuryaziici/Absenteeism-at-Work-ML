{
 "cells": [
  {
   "cell_type": "code",
   "execution_count": 169,
   "id": "ccee66a0",
   "metadata": {},
   "outputs": [],
   "source": [
    "#importing libraries and loading data set\n",
    "import pandas as pd\n",
    "import numpy as np\n",
    "import seaborn as sns\n",
    "import matplotlib.pyplot as plt\n",
    "from sklearn.model_selection import train_test_split\n",
    "from sklearn.feature_selection import SelectKBest\n",
    "from sklearn.feature_selection import chi2\n",
    "from sklearn.metrics import accuracy_score\n",
    "from sklearn.preprocessing import StandardScaler\n",
    "from sklearn.metrics import confusion_matrix,ConfusionMatrixDisplay\n",
    "from sklearn.metrics import classification_report\n",
    "from sklearn import preprocessing"
   ]
  },
  {
   "cell_type": "code",
   "execution_count": 170,
   "id": "9f7d9db0",
   "metadata": {},
   "outputs": [
    {
     "data": {
      "text/html": [
       "<div>\n",
       "<style scoped>\n",
       "    .dataframe tbody tr th:only-of-type {\n",
       "        vertical-align: middle;\n",
       "    }\n",
       "\n",
       "    .dataframe tbody tr th {\n",
       "        vertical-align: top;\n",
       "    }\n",
       "\n",
       "    .dataframe thead th {\n",
       "        text-align: right;\n",
       "    }\n",
       "</style>\n",
       "<table border=\"1\" class=\"dataframe\">\n",
       "  <thead>\n",
       "    <tr style=\"text-align: right;\">\n",
       "      <th></th>\n",
       "      <th>Reason for absence</th>\n",
       "      <th>Month of absence</th>\n",
       "      <th>Day of the week</th>\n",
       "      <th>Seasons</th>\n",
       "      <th>Transportation expense</th>\n",
       "      <th>Distance from Residence to Work</th>\n",
       "      <th>Service time</th>\n",
       "      <th>Age</th>\n",
       "      <th>Work load Average/day</th>\n",
       "      <th>Hit target</th>\n",
       "      <th>Disciplinary failure</th>\n",
       "      <th>Education</th>\n",
       "      <th>Son</th>\n",
       "      <th>Social drinker</th>\n",
       "      <th>Social smoker</th>\n",
       "      <th>Pet</th>\n",
       "      <th>Weight</th>\n",
       "      <th>Height</th>\n",
       "      <th>Body mass index</th>\n",
       "      <th>Absenteeism Status</th>\n",
       "    </tr>\n",
       "  </thead>\n",
       "  <tbody>\n",
       "    <tr>\n",
       "      <th>0</th>\n",
       "      <td>18</td>\n",
       "      <td>1</td>\n",
       "      <td>3</td>\n",
       "      <td>2</td>\n",
       "      <td>179</td>\n",
       "      <td>26</td>\n",
       "      <td>9</td>\n",
       "      <td>30</td>\n",
       "      <td>308.593</td>\n",
       "      <td>95</td>\n",
       "      <td>0</td>\n",
       "      <td>3</td>\n",
       "      <td>0</td>\n",
       "      <td>0</td>\n",
       "      <td>0</td>\n",
       "      <td>0</td>\n",
       "      <td>56</td>\n",
       "      <td>171</td>\n",
       "      <td>19</td>\n",
       "      <td>2</td>\n",
       "    </tr>\n",
       "    <tr>\n",
       "      <th>1</th>\n",
       "      <td>28</td>\n",
       "      <td>4</td>\n",
       "      <td>6</td>\n",
       "      <td>3</td>\n",
       "      <td>260</td>\n",
       "      <td>50</td>\n",
       "      <td>11</td>\n",
       "      <td>36</td>\n",
       "      <td>239.409</td>\n",
       "      <td>98</td>\n",
       "      <td>0</td>\n",
       "      <td>1</td>\n",
       "      <td>4</td>\n",
       "      <td>1</td>\n",
       "      <td>0</td>\n",
       "      <td>0</td>\n",
       "      <td>65</td>\n",
       "      <td>168</td>\n",
       "      <td>23</td>\n",
       "      <td>1</td>\n",
       "    </tr>\n",
       "    <tr>\n",
       "      <th>2</th>\n",
       "      <td>25</td>\n",
       "      <td>2</td>\n",
       "      <td>3</td>\n",
       "      <td>2</td>\n",
       "      <td>225</td>\n",
       "      <td>26</td>\n",
       "      <td>9</td>\n",
       "      <td>28</td>\n",
       "      <td>264.249</td>\n",
       "      <td>97</td>\n",
       "      <td>0</td>\n",
       "      <td>1</td>\n",
       "      <td>1</td>\n",
       "      <td>0</td>\n",
       "      <td>0</td>\n",
       "      <td>2</td>\n",
       "      <td>69</td>\n",
       "      <td>169</td>\n",
       "      <td>24</td>\n",
       "      <td>1</td>\n",
       "    </tr>\n",
       "    <tr>\n",
       "      <th>3</th>\n",
       "      <td>28</td>\n",
       "      <td>4</td>\n",
       "      <td>4</td>\n",
       "      <td>3</td>\n",
       "      <td>291</td>\n",
       "      <td>31</td>\n",
       "      <td>12</td>\n",
       "      <td>40</td>\n",
       "      <td>326.452</td>\n",
       "      <td>96</td>\n",
       "      <td>0</td>\n",
       "      <td>1</td>\n",
       "      <td>1</td>\n",
       "      <td>1</td>\n",
       "      <td>0</td>\n",
       "      <td>1</td>\n",
       "      <td>73</td>\n",
       "      <td>171</td>\n",
       "      <td>25</td>\n",
       "      <td>1</td>\n",
       "    </tr>\n",
       "    <tr>\n",
       "      <th>4</th>\n",
       "      <td>8</td>\n",
       "      <td>3</td>\n",
       "      <td>5</td>\n",
       "      <td>2</td>\n",
       "      <td>179</td>\n",
       "      <td>22</td>\n",
       "      <td>17</td>\n",
       "      <td>40</td>\n",
       "      <td>343.253</td>\n",
       "      <td>95</td>\n",
       "      <td>0</td>\n",
       "      <td>2</td>\n",
       "      <td>2</td>\n",
       "      <td>0</td>\n",
       "      <td>1</td>\n",
       "      <td>0</td>\n",
       "      <td>63</td>\n",
       "      <td>170</td>\n",
       "      <td>22</td>\n",
       "      <td>2</td>\n",
       "    </tr>\n",
       "    <tr>\n",
       "      <th>...</th>\n",
       "      <td>...</td>\n",
       "      <td>...</td>\n",
       "      <td>...</td>\n",
       "      <td>...</td>\n",
       "      <td>...</td>\n",
       "      <td>...</td>\n",
       "      <td>...</td>\n",
       "      <td>...</td>\n",
       "      <td>...</td>\n",
       "      <td>...</td>\n",
       "      <td>...</td>\n",
       "      <td>...</td>\n",
       "      <td>...</td>\n",
       "      <td>...</td>\n",
       "      <td>...</td>\n",
       "      <td>...</td>\n",
       "      <td>...</td>\n",
       "      <td>...</td>\n",
       "      <td>...</td>\n",
       "      <td>...</td>\n",
       "    </tr>\n",
       "    <tr>\n",
       "      <th>720</th>\n",
       "      <td>0</td>\n",
       "      <td>11</td>\n",
       "      <td>4</td>\n",
       "      <td>4</td>\n",
       "      <td>289</td>\n",
       "      <td>36</td>\n",
       "      <td>13</td>\n",
       "      <td>33</td>\n",
       "      <td>268.519</td>\n",
       "      <td>93</td>\n",
       "      <td>1</td>\n",
       "      <td>1</td>\n",
       "      <td>2</td>\n",
       "      <td>1</td>\n",
       "      <td>0</td>\n",
       "      <td>1</td>\n",
       "      <td>90</td>\n",
       "      <td>172</td>\n",
       "      <td>30</td>\n",
       "      <td>0</td>\n",
       "    </tr>\n",
       "    <tr>\n",
       "      <th>721</th>\n",
       "      <td>22</td>\n",
       "      <td>9</td>\n",
       "      <td>3</td>\n",
       "      <td>4</td>\n",
       "      <td>361</td>\n",
       "      <td>52</td>\n",
       "      <td>3</td>\n",
       "      <td>28</td>\n",
       "      <td>261.756</td>\n",
       "      <td>87</td>\n",
       "      <td>0</td>\n",
       "      <td>1</td>\n",
       "      <td>1</td>\n",
       "      <td>1</td>\n",
       "      <td>0</td>\n",
       "      <td>4</td>\n",
       "      <td>80</td>\n",
       "      <td>172</td>\n",
       "      <td>27</td>\n",
       "      <td>2</td>\n",
       "    </tr>\n",
       "    <tr>\n",
       "      <th>722</th>\n",
       "      <td>13</td>\n",
       "      <td>3</td>\n",
       "      <td>4</td>\n",
       "      <td>3</td>\n",
       "      <td>155</td>\n",
       "      <td>12</td>\n",
       "      <td>14</td>\n",
       "      <td>34</td>\n",
       "      <td>222.196</td>\n",
       "      <td>99</td>\n",
       "      <td>0</td>\n",
       "      <td>1</td>\n",
       "      <td>2</td>\n",
       "      <td>1</td>\n",
       "      <td>0</td>\n",
       "      <td>0</td>\n",
       "      <td>95</td>\n",
       "      <td>196</td>\n",
       "      <td>25</td>\n",
       "      <td>2</td>\n",
       "    </tr>\n",
       "    <tr>\n",
       "      <th>723</th>\n",
       "      <td>23</td>\n",
       "      <td>7</td>\n",
       "      <td>4</td>\n",
       "      <td>1</td>\n",
       "      <td>118</td>\n",
       "      <td>10</td>\n",
       "      <td>10</td>\n",
       "      <td>37</td>\n",
       "      <td>264.604</td>\n",
       "      <td>93</td>\n",
       "      <td>0</td>\n",
       "      <td>1</td>\n",
       "      <td>0</td>\n",
       "      <td>0</td>\n",
       "      <td>0</td>\n",
       "      <td>0</td>\n",
       "      <td>83</td>\n",
       "      <td>172</td>\n",
       "      <td>28</td>\n",
       "      <td>1</td>\n",
       "    </tr>\n",
       "    <tr>\n",
       "      <th>724</th>\n",
       "      <td>0</td>\n",
       "      <td>9</td>\n",
       "      <td>3</td>\n",
       "      <td>1</td>\n",
       "      <td>291</td>\n",
       "      <td>50</td>\n",
       "      <td>12</td>\n",
       "      <td>32</td>\n",
       "      <td>294.217</td>\n",
       "      <td>81</td>\n",
       "      <td>1</td>\n",
       "      <td>1</td>\n",
       "      <td>0</td>\n",
       "      <td>1</td>\n",
       "      <td>0</td>\n",
       "      <td>0</td>\n",
       "      <td>65</td>\n",
       "      <td>169</td>\n",
       "      <td>23</td>\n",
       "      <td>0</td>\n",
       "    </tr>\n",
       "  </tbody>\n",
       "</table>\n",
       "<p>725 rows × 20 columns</p>\n",
       "</div>"
      ],
      "text/plain": [
       "     Reason for absence  Month of absence  Day of the week  Seasons  \\\n",
       "0                    18                 1                3        2   \n",
       "1                    28                 4                6        3   \n",
       "2                    25                 2                3        2   \n",
       "3                    28                 4                4        3   \n",
       "4                     8                 3                5        2   \n",
       "..                  ...               ...              ...      ...   \n",
       "720                   0                11                4        4   \n",
       "721                  22                 9                3        4   \n",
       "722                  13                 3                4        3   \n",
       "723                  23                 7                4        1   \n",
       "724                   0                 9                3        1   \n",
       "\n",
       "     Transportation expense  Distance from Residence to Work  Service time  \\\n",
       "0                       179                               26             9   \n",
       "1                       260                               50            11   \n",
       "2                       225                               26             9   \n",
       "3                       291                               31            12   \n",
       "4                       179                               22            17   \n",
       "..                      ...                              ...           ...   \n",
       "720                     289                               36            13   \n",
       "721                     361                               52             3   \n",
       "722                     155                               12            14   \n",
       "723                     118                               10            10   \n",
       "724                     291                               50            12   \n",
       "\n",
       "     Age  Work load Average/day   Hit target  Disciplinary failure  Education  \\\n",
       "0     30                 308.593          95                     0          3   \n",
       "1     36                 239.409          98                     0          1   \n",
       "2     28                 264.249          97                     0          1   \n",
       "3     40                 326.452          96                     0          1   \n",
       "4     40                 343.253          95                     0          2   \n",
       "..   ...                     ...         ...                   ...        ...   \n",
       "720   33                 268.519          93                     1          1   \n",
       "721   28                 261.756          87                     0          1   \n",
       "722   34                 222.196          99                     0          1   \n",
       "723   37                 264.604          93                     0          1   \n",
       "724   32                 294.217          81                     1          1   \n",
       "\n",
       "     Son  Social drinker  Social smoker  Pet  Weight  Height  Body mass index  \\\n",
       "0      0               0              0    0      56     171               19   \n",
       "1      4               1              0    0      65     168               23   \n",
       "2      1               0              0    2      69     169               24   \n",
       "3      1               1              0    1      73     171               25   \n",
       "4      2               0              1    0      63     170               22   \n",
       "..   ...             ...            ...  ...     ...     ...              ...   \n",
       "720    2               1              0    1      90     172               30   \n",
       "721    1               1              0    4      80     172               27   \n",
       "722    2               1              0    0      95     196               25   \n",
       "723    0               0              0    0      83     172               28   \n",
       "724    0               1              0    0      65     169               23   \n",
       "\n",
       "     Absenteeism Status  \n",
       "0                     2  \n",
       "1                     1  \n",
       "2                     1  \n",
       "3                     1  \n",
       "4                     2  \n",
       "..                  ...  \n",
       "720                   0  \n",
       "721                   2  \n",
       "722                   2  \n",
       "723                   1  \n",
       "724                   0  \n",
       "\n",
       "[725 rows x 20 columns]"
      ]
     },
     "execution_count": 170,
     "metadata": {},
     "output_type": "execute_result"
    }
   ],
   "source": [
    "#import dataset and preprocessing\n",
    "AAA = pd.read_csv(\"Absenteeism_at_work.csv\",sep=\";\")\n",
    "np.random.seed(42)\n",
    "bins = [0,0.1,5,np.inf]\n",
    "labels = ['Low', 'Medium', 'High']\n",
    "AAA['Absenteeism Status'] = pd.cut(AAA['Absenteeism time in hours'], bins=bins, labels=labels,include_lowest='TRUE',right='FALSE')\n",
    "Status=['Low','Medium','High']\n",
    "oe=preprocessing.OrdinalEncoder(categories=[Status],dtype='int64')\n",
    "AAA[['Absenteeism Status']]=oe.fit_transform(AAA[['Absenteeism Status']])\n",
    "AAA=AAA.drop(['ID','Absenteeism time in hours'],axis=1)\n",
    "AAA"
   ]
  },
  {
   "cell_type": "code",
   "execution_count": 171,
   "id": "72b6a603",
   "metadata": {},
   "outputs": [],
   "source": [
    "#Under-sampling\n",
    "\n",
    "#X as an input matrix\n",
    "#y as an output matrix\n",
    "X=AAA.drop([\"Absenteeism Status\"],axis=1)\n",
    "y=AAA[\"Absenteeism Status\"]\n",
    "\n",
    "# from collections import Counter\n",
    "# print(sorted(Counter(AAA['Absenteeism Status']).items()))\n",
    "# from imblearn.under_sampling import ClusterCentroids\n",
    "# cc = ClusterCentroids(random_state=0)\n",
    "# X, y = cc.fit_resample(X,y)\n",
    "# print(sorted(Counter(y).items()))\n",
    "\n",
    "\n",
    "#y_resampled"
   ]
  },
  {
   "cell_type": "code",
   "execution_count": 172,
   "id": "b9387241",
   "metadata": {},
   "outputs": [
    {
     "name": "stdout",
     "output_type": "stream",
     "text": [
      "<class 'pandas.core.frame.DataFrame'>\n",
      "RangeIndex: 725 entries, 0 to 724\n",
      "Data columns (total 20 columns):\n",
      " #   Column                           Non-Null Count  Dtype  \n",
      "---  ------                           --------------  -----  \n",
      " 0   Reason for absence               725 non-null    int64  \n",
      " 1   Month of absence                 725 non-null    int64  \n",
      " 2   Day of the week                  725 non-null    int64  \n",
      " 3   Seasons                          725 non-null    int64  \n",
      " 4   Transportation expense           725 non-null    int64  \n",
      " 5   Distance from Residence to Work  725 non-null    int64  \n",
      " 6   Service time                     725 non-null    int64  \n",
      " 7   Age                              725 non-null    int64  \n",
      " 8   Work load Average/day            725 non-null    float64\n",
      " 9   Hit target                       725 non-null    int64  \n",
      " 10  Disciplinary failure             725 non-null    int64  \n",
      " 11  Education                        725 non-null    int64  \n",
      " 12  Son                              725 non-null    int64  \n",
      " 13  Social drinker                   725 non-null    int64  \n",
      " 14  Social smoker                    725 non-null    int64  \n",
      " 15  Pet                              725 non-null    int64  \n",
      " 16  Weight                           725 non-null    int64  \n",
      " 17  Height                           725 non-null    int64  \n",
      " 18  Body mass index                  725 non-null    int64  \n",
      " 19  Absenteeism Status               725 non-null    int64  \n",
      "dtypes: float64(1), int64(19)\n",
      "memory usage: 113.4 KB\n"
     ]
    }
   ],
   "source": [
    "AAA.info()"
   ]
  },
  {
   "cell_type": "code",
   "execution_count": 173,
   "id": "abf7b3ce",
   "metadata": {},
   "outputs": [],
   "source": [
    "#ölçeklendirme\n",
    "\n",
    "\n",
    "# X = preprocessing.minmax_scale(X)\n",
    "# y = preprocessing.minmax_scale(y)\n",
    "# AAA_sc = pd.DataFrame(X)\n",
    "# AAA_sc"
   ]
  },
  {
   "cell_type": "code",
   "execution_count": 174,
   "id": "1aa21369",
   "metadata": {},
   "outputs": [
    {
     "data": {
      "text/plain": [
       "((725, 19), (725,))"
      ]
     },
     "execution_count": 174,
     "metadata": {},
     "output_type": "execute_result"
    }
   ],
   "source": [
    "X.shape,y.shape"
   ]
  },
  {
   "cell_type": "code",
   "execution_count": 175,
   "id": "9f38ee38",
   "metadata": {},
   "outputs": [
    {
     "name": "stdout",
     "output_type": "stream",
     "text": [
      "                              Specs        Score\n",
      "0                Reason for absence  1223.663886\n",
      "4            Transportation expense  1187.515281\n",
      "10             Disciplinary failure   619.090909\n",
      "8            Work load Average/day     44.362992\n",
      "12                              Son    27.148440\n",
      "5   Distance from Residence to Work    24.293990\n",
      "15                              Pet    18.423400\n",
      "16                           Weight    15.285820\n",
      "7                               Age    13.178583\n",
      "14                    Social smoker    11.783332\n"
     ]
    }
   ],
   "source": [
    "#apply SelectKBest class to extract top 10 best features\n",
    "bestfeatures = SelectKBest(score_func=chi2, k=5)\n",
    "fit = bestfeatures.fit(X,y)\n",
    "dfscores = pd.DataFrame(fit.scores_)\n",
    "dfcolumns = pd.DataFrame(X.columns)\n",
    "#concat two dataframes for better visualization \n",
    "featureScores = pd.concat([dfcolumns,dfscores],axis=1)\n",
    "featureScores.columns = ['Specs','Score']  #naming the dataframe columns\n",
    "print(featureScores.nlargest(10,'Score'))  #print 10 best features"
   ]
  },
  {
   "cell_type": "code",
   "execution_count": 176,
   "id": "409ba555",
   "metadata": {},
   "outputs": [],
   "source": [
    "#X_selected=fit.transform(X)\n",
    "#X_selected.shape"
   ]
  },
  {
   "cell_type": "code",
   "execution_count": 177,
   "id": "d6ee459f",
   "metadata": {
    "scrolled": true
   },
   "outputs": [
    {
     "data": {
      "text/html": [
       "<div>\n",
       "<style scoped>\n",
       "    .dataframe tbody tr th:only-of-type {\n",
       "        vertical-align: middle;\n",
       "    }\n",
       "\n",
       "    .dataframe tbody tr th {\n",
       "        vertical-align: top;\n",
       "    }\n",
       "\n",
       "    .dataframe thead th {\n",
       "        text-align: right;\n",
       "    }\n",
       "</style>\n",
       "<table border=\"1\" class=\"dataframe\">\n",
       "  <thead>\n",
       "    <tr style=\"text-align: right;\">\n",
       "      <th></th>\n",
       "      <th>Specs</th>\n",
       "      <th>Score</th>\n",
       "    </tr>\n",
       "  </thead>\n",
       "  <tbody>\n",
       "    <tr>\n",
       "      <th>0</th>\n",
       "      <td>Reason for absence</td>\n",
       "      <td>1223.663886</td>\n",
       "    </tr>\n",
       "    <tr>\n",
       "      <th>4</th>\n",
       "      <td>Transportation expense</td>\n",
       "      <td>1187.515281</td>\n",
       "    </tr>\n",
       "    <tr>\n",
       "      <th>10</th>\n",
       "      <td>Disciplinary failure</td>\n",
       "      <td>619.090909</td>\n",
       "    </tr>\n",
       "    <tr>\n",
       "      <th>8</th>\n",
       "      <td>Work load Average/day</td>\n",
       "      <td>44.362992</td>\n",
       "    </tr>\n",
       "    <tr>\n",
       "      <th>12</th>\n",
       "      <td>Son</td>\n",
       "      <td>27.148440</td>\n",
       "    </tr>\n",
       "  </tbody>\n",
       "</table>\n",
       "</div>"
      ],
      "text/plain": [
       "                     Specs        Score\n",
       "0       Reason for absence  1223.663886\n",
       "4   Transportation expense  1187.515281\n",
       "10    Disciplinary failure   619.090909\n",
       "8   Work load Average/day     44.362992\n",
       "12                     Son    27.148440"
      ]
     },
     "execution_count": 177,
     "metadata": {},
     "output_type": "execute_result"
    }
   ],
   "source": [
    "Ab=featureScores.nlargest(5,'Score')\n",
    "Ab"
   ]
  },
  {
   "cell_type": "code",
   "execution_count": 178,
   "id": "d403ee69",
   "metadata": {},
   "outputs": [],
   "source": [
    "#Veri Kümesinin Eğitim ve Test olarak bölünmesi\n",
    "X_train, X_test, y_train , y_test =train_test_split(X,y,test_size=0.20,random_state=0)"
   ]
  },
  {
   "cell_type": "code",
   "execution_count": 179,
   "id": "f538336d",
   "metadata": {},
   "outputs": [
    {
     "name": "stdout",
     "output_type": "stream",
     "text": [
      "(725, 19) (580, 19) (145, 19) (725,) (145,) (580,)\n"
     ]
    }
   ],
   "source": [
    "print(X.shape,X_train.shape,X_test.shape,y.shape,y_test.shape,y_train.shape)"
   ]
  },
  {
   "cell_type": "code",
   "execution_count": 180,
   "id": "675bc848",
   "metadata": {},
   "outputs": [],
   "source": [
    "# Model Oluşturma"
   ]
  },
  {
   "cell_type": "code",
   "execution_count": 181,
   "id": "651082b6",
   "metadata": {},
   "outputs": [],
   "source": [
    "#1-KNeighborsClassifier Algorithm\n",
    "from sklearn.neighbors import KNeighborsClassifier"
   ]
  },
  {
   "cell_type": "code",
   "execution_count": 182,
   "id": "449dca92",
   "metadata": {},
   "outputs": [
    {
     "data": {
      "text/plain": [
       "array([0.66896552, 0.65517241, 0.66896552, 0.68275862, 0.70344828,\n",
       "       0.73103448, 0.68965517, 0.73103448, 0.70344828])"
      ]
     },
     "execution_count": 182,
     "metadata": {},
     "output_type": "execute_result"
    }
   ],
   "source": [
    "#En iyi k değerini bulma\n",
    "from sklearn import metrics\n",
    "Ks=10\n",
    "mean_acc=np.zeros((Ks-1))\n",
    "std_acc=np.zeros((Ks-1))\n",
    "ConfustionMx=[]\n",
    "for n in range(1,Ks):\n",
    "        neigh=KNeighborsClassifier(n_neighbors=n).fit(X_train,y_train)\n",
    "        yhat=neigh.predict(X_test)\n",
    "        mean_acc[n-1]=metrics.accuracy_score(y_test,yhat)\n",
    "        \n",
    "        std_acc[n-1]=np.std(yhat==y_test)/np.sqrt(yhat.shape[0])\n",
    "mean_acc"
   ]
  },
  {
   "cell_type": "code",
   "execution_count": 183,
   "id": "7ff0d8e7",
   "metadata": {},
   "outputs": [
    {
     "data": {
      "text/plain": [
       "<function matplotlib.pyplot.show(close=None, block=None)>"
      ]
     },
     "execution_count": 183,
     "metadata": {},
     "output_type": "execute_result"
    },
    {
     "data": {
      "image/png": "[encoded data removed]",
      "text/plain": [
       "<Figure size 432x288 with 1 Axes>"
      ]
     },
     "metadata": {
      "needs_background": "light"
     },
     "output_type": "display_data"
    }
   ],
   "source": [
    "#K değerlerinin görselleştirilmesi\n",
    "plt.plot(range(1,Ks),mean_acc,'g')\n",
    "plt.fill_between(range(1,Ks),mean_acc-1*std_acc,mean_acc+1*std_acc,alpha=0.10)\n",
    "plt.legend(('Accuracy','+/- 3xstd'))\n",
    "plt.ylabel('Accuracy')\n",
    "plt.xlabel('Number of Nabors (K)')\n",
    "plt.tight_layout()\n",
    "plt.show"
   ]
  },
  {
   "cell_type": "code",
   "execution_count": 184,
   "id": "f38ab15b",
   "metadata": {},
   "outputs": [
    {
     "name": "stdout",
     "output_type": "stream",
     "text": [
      "[[ 4  1  7]\n",
      " [ 0 66 21]\n",
      " [ 1 15 30]]\n",
      "accuracy degeri : 0.6896551724137931\n",
      "              precision    recall  f1-score   support\n",
      "\n",
      "           0       0.80      0.33      0.47        12\n",
      "           1       0.80      0.76      0.78        87\n",
      "           2       0.52      0.65      0.58        46\n",
      "\n",
      "    accuracy                           0.69       145\n",
      "   macro avg       0.71      0.58      0.61       145\n",
      "weighted avg       0.71      0.69      0.69       145\n",
      "\n"
     ]
    }
   ],
   "source": [
    "classifier = KNeighborsClassifier(n_neighbors=7, metric='minkowski', p = 2)\n",
    "classifier.fit(X_train, y_train)\n",
    "y_pred = classifier.predict(X_test)\n",
    "cm = confusion_matrix(y_test, y_pred)\n",
    "print(cm)\n",
    "print('accuracy degeri :', accuracy_score(y_test, y_pred))\n",
    "print(classification_report(y_test,y_pred))"
   ]
  },
  {
   "cell_type": "code",
   "execution_count": 185,
   "id": "5caff8c3",
   "metadata": {},
   "outputs": [
    {
     "name": "stdout",
     "output_type": "stream",
     "text": [
      "0.6896551724137931\n"
     ]
    }
   ],
   "source": [
    "print(np.mean(y_pred==y_test))"
   ]
  },
  {
   "cell_type": "code",
   "execution_count": 186,
   "id": "a91b8967",
   "metadata": {},
   "outputs": [
    {
     "name": "stdout",
     "output_type": "stream",
     "text": [
      "0.6896551724137931\n"
     ]
    }
   ],
   "source": [
    "print(classifier.score(X_test,y_test))"
   ]
  },
  {
   "cell_type": "code",
   "execution_count": 187,
   "id": "8374c840",
   "metadata": {
    "scrolled": true
   },
   "outputs": [
    {
     "data": {
      "text/plain": [
       "array([0.65517241, 0.72413793, 0.63793103, 0.68965517, 0.68965517,\n",
       "       0.63793103, 0.63793103, 0.72413793, 0.72413793, 0.70689655])"
      ]
     },
     "execution_count": 187,
     "metadata": {},
     "output_type": "execute_result"
    }
   ],
   "source": [
    "#K-FOLD CROSS-VALIDATION\n",
    "from sklearn.model_selection import cross_val_score\n",
    "scores=cross_val_score(classifier,X_train,y_train, cv=10)\n",
    "scores"
   ]
  },
  {
   "cell_type": "code",
   "execution_count": 188,
   "id": "77eaa117",
   "metadata": {},
   "outputs": [
    {
     "data": {
      "text/plain": [
       "0.6827586206896552"
      ]
     },
     "execution_count": 188,
     "metadata": {},
     "output_type": "execute_result"
    }
   ],
   "source": [
    "scores.mean()"
   ]
  },
  {
   "cell_type": "code",
   "execution_count": 189,
   "id": "aa10173c",
   "metadata": {},
   "outputs": [
    {
     "data": {
      "text/plain": [
       "LogisticRegression(max_iter=10000, random_state=0)"
      ]
     },
     "execution_count": 189,
     "metadata": {},
     "output_type": "execute_result"
    }
   ],
   "source": [
    "#2-LogisticRegression Algorithm\n",
    "from sklearn.linear_model import LogisticRegression\n",
    "logr=LogisticRegression(max_iter=10000,random_state=0)\n",
    "logr.fit(X_train,y_train)"
   ]
  },
  {
   "cell_type": "code",
   "execution_count": 190,
   "id": "b15eb642",
   "metadata": {},
   "outputs": [
    {
     "name": "stdout",
     "output_type": "stream",
     "text": [
      "[[11  0  1]\n",
      " [ 0 72 15]\n",
      " [ 0 17 29]]\n",
      "              precision    recall  f1-score   support\n",
      "\n",
      "           0       1.00      0.92      0.96        12\n",
      "           1       0.81      0.83      0.82        87\n",
      "           2       0.64      0.63      0.64        46\n",
      "\n",
      "    accuracy                           0.77       145\n",
      "   macro avg       0.82      0.79      0.80       145\n",
      "weighted avg       0.77      0.77      0.77       145\n",
      "\n"
     ]
    }
   ],
   "source": [
    "y_pred=logr.predict(X_test)\n",
    "cm=confusion_matrix(y_test,y_pred)\n",
    "print(cm)\n",
    "print(classification_report(y_test,y_pred))"
   ]
  },
  {
   "cell_type": "code",
   "execution_count": 191,
   "id": "a38ab931",
   "metadata": {},
   "outputs": [
    {
     "name": "stdout",
     "output_type": "stream",
     "text": [
      "accuracy degeri : 0.7724137931034483\n",
      "(145,) (145,)\n"
     ]
    }
   ],
   "source": [
    "print('accuracy degeri :', accuracy_score(y_test, y_pred))\n",
    "print(y_test.shape,y_pred.shape)"
   ]
  },
  {
   "cell_type": "code",
   "execution_count": 192,
   "id": "3b40199b",
   "metadata": {},
   "outputs": [
    {
     "data": {
      "text/plain": [
       "0.7637931034482759"
      ]
     },
     "execution_count": 192,
     "metadata": {},
     "output_type": "execute_result"
    }
   ],
   "source": [
    "#K-FOLD CROSS-VALIDATION\n",
    "from sklearn.model_selection import cross_val_score\n",
    "scores=cross_val_score(logr,X_train,y_train, cv=10)\n",
    "scores.mean()"
   ]
  },
  {
   "cell_type": "code",
   "execution_count": 193,
   "id": "bc27e694",
   "metadata": {},
   "outputs": [
    {
     "data": {
      "text/plain": [
       "SVC(kernel='linear')"
      ]
     },
     "execution_count": 193,
     "metadata": {},
     "output_type": "execute_result"
    }
   ],
   "source": [
    "#3-Support Vector Machines Algorithm\n",
    "from sklearn.svm import SVC\n",
    "svc=SVC(kernel='linear')\n",
    "svc.fit(X_train,y_train)"
   ]
  },
  {
   "cell_type": "code",
   "execution_count": 194,
   "id": "53c73f73",
   "metadata": {},
   "outputs": [
    {
     "name": "stdout",
     "output_type": "stream",
     "text": [
      "accuracy degeri : 0.7862068965517242\n",
      "(145,) (145,)\n",
      "              precision    recall  f1-score   support\n",
      "\n",
      "           0       1.00      0.92      0.96        12\n",
      "           1       0.82      0.84      0.83        87\n",
      "           2       0.67      0.65      0.66        46\n",
      "\n",
      "    accuracy                           0.79       145\n",
      "   macro avg       0.83      0.80      0.82       145\n",
      "weighted avg       0.79      0.79      0.79       145\n",
      "\n"
     ]
    }
   ],
   "source": [
    "y_pred=svc.predict(X_test)\n",
    "cm=confusion_matrix(y_test,y_pred)\n",
    "print('accuracy degeri :', accuracy_score(y_test, y_pred))\n",
    "print(y_test.shape,y_pred.shape)\n",
    "print(classification_report(y_test,y_pred))\n"
   ]
  },
  {
   "cell_type": "code",
   "execution_count": 195,
   "id": "b38c5e0d",
   "metadata": {},
   "outputs": [
    {
     "data": {
      "image/png": "[encoded data removed]",
      "text/plain": [
       "<Figure size 432x288 with 2 Axes>"
      ]
     },
     "metadata": {
      "needs_background": "light"
     },
     "output_type": "display_data"
    }
   ],
   "source": [
    "disp = ConfusionMatrixDisplay(confusion_matrix=cm,display_labels=svc.classes_)\n",
    "disp.plot()\n",
    "plt.show()"
   ]
  },
  {
   "cell_type": "code",
   "execution_count": 196,
   "id": "aeb0a45c",
   "metadata": {},
   "outputs": [
    {
     "data": {
      "text/plain": [
       "0.7706896551724137"
      ]
     },
     "execution_count": 196,
     "metadata": {},
     "output_type": "execute_result"
    }
   ],
   "source": [
    "#K-FOLD CROSS-VALIDATION\n",
    "from sklearn.model_selection import cross_val_score\n",
    "scores=cross_val_score(svc,X_train,y_train, cv=10)\n",
    "scores.mean()"
   ]
  },
  {
   "cell_type": "code",
   "execution_count": 197,
   "id": "0213dd8f",
   "metadata": {},
   "outputs": [
    {
     "data": {
      "text/plain": [
       "GaussianNB()"
      ]
     },
     "execution_count": 197,
     "metadata": {},
     "output_type": "execute_result"
    }
   ],
   "source": [
    "#4-GaussianNB algorithm\n",
    "from sklearn.naive_bayes import GaussianNB\n",
    "gnb = GaussianNB()\n",
    "gnb.fit(X_train,y_train)"
   ]
  },
  {
   "cell_type": "code",
   "execution_count": 198,
   "id": "0362ca5b",
   "metadata": {},
   "outputs": [
    {
     "data": {
      "image/png": "[encoded data removed]",
      "text/plain": [
       "<Figure size 432x288 with 2 Axes>"
      ]
     },
     "metadata": {
      "needs_background": "light"
     },
     "output_type": "display_data"
    },
    {
     "name": "stdout",
     "output_type": "stream",
     "text": [
      "accuracy degeri : 0.6551724137931034\n",
      "(145,) (145,)\n",
      "              precision    recall  f1-score   support\n",
      "\n",
      "           0       1.00      0.92      0.96        12\n",
      "           1       0.73      0.70      0.71        87\n",
      "           2       0.46      0.50      0.48        46\n",
      "\n",
      "    accuracy                           0.66       145\n",
      "   macro avg       0.73      0.71      0.72       145\n",
      "weighted avg       0.66      0.66      0.66       145\n",
      "\n"
     ]
    }
   ],
   "source": [
    "y_pred=gnb.predict(X_test)\n",
    "cm=confusion_matrix(y_test,y_pred)\n",
    "disp = ConfusionMatrixDisplay(confusion_matrix=cm,display_labels=gnb.classes_)\n",
    "disp.plot()\n",
    "plt.show()\n",
    "print('accuracy degeri :', accuracy_score(y_test, y_pred))\n",
    "print(y_test.shape,y_pred.shape)\n",
    "print(classification_report(y_test,y_pred))"
   ]
  },
  {
   "cell_type": "code",
   "execution_count": 199,
   "id": "62b1f299",
   "metadata": {},
   "outputs": [
    {
     "data": {
      "text/plain": [
       "0.7482758620689656"
      ]
     },
     "execution_count": 199,
     "metadata": {},
     "output_type": "execute_result"
    }
   ],
   "source": [
    "#K-FOLD CROSS-VALIDATION\n",
    "from sklearn.model_selection import cross_val_score\n",
    "scores=cross_val_score(gnb,X_train,y_train, cv=10)\n",
    "scores\n",
    "scores.mean()"
   ]
  },
  {
   "cell_type": "code",
   "execution_count": 200,
   "id": "91ffa7ba",
   "metadata": {},
   "outputs": [
    {
     "name": "stdout",
     "output_type": "stream",
     "text": [
      "              precision    recall  f1-score   support\n",
      "\n",
      "           0       1.00      0.92      0.96        12\n",
      "           1       0.73      0.70      0.71        87\n",
      "           2       0.46      0.50      0.48        46\n",
      "\n",
      "    accuracy                           0.66       145\n",
      "   macro avg       0.73      0.71      0.72       145\n",
      "weighted avg       0.66      0.66      0.66       145\n",
      "\n"
     ]
    }
   ],
   "source": [
    "#5-DecisionTreeClassifier Algorithm\n",
    "from sklearn.tree import DecisionTreeClassifier\n",
    "dtc=DecisionTreeClassifier(criterion='gini')\n",
    "dtc.fit(X_train,y_train)\n",
    "print(classification_report(y_test,y_pred))"
   ]
  },
  {
   "cell_type": "code",
   "execution_count": 201,
   "id": "f41f2408",
   "metadata": {},
   "outputs": [
    {
     "data": {
      "image/png": "[encoded data removed]",
      "text/plain": [
       "<Figure size 432x288 with 2 Axes>"
      ]
     },
     "metadata": {
      "needs_background": "light"
     },
     "output_type": "display_data"
    },
    {
     "name": "stdout",
     "output_type": "stream",
     "text": [
      "accuracy degeri : 0.7655172413793103\n",
      "              precision    recall  f1-score   support\n",
      "\n",
      "           0       1.00      1.00      1.00        12\n",
      "           1       0.83      0.77      0.80        87\n",
      "           2       0.62      0.70      0.65        46\n",
      "\n",
      "    accuracy                           0.77       145\n",
      "   macro avg       0.81      0.82      0.82       145\n",
      "weighted avg       0.77      0.77      0.77       145\n",
      "\n"
     ]
    }
   ],
   "source": [
    "y_pred=dtc.predict(X_test)\n",
    "cm=confusion_matrix(y_test,y_pred)\n",
    "disp = ConfusionMatrixDisplay(confusion_matrix=cm,display_labels=dtc.classes_)\n",
    "disp.plot()\n",
    "plt.show()\n",
    "print('accuracy degeri :', accuracy_score(y_test, y_pred))\n",
    "print(classification_report(y_test,y_pred))"
   ]
  },
  {
   "cell_type": "code",
   "execution_count": 202,
   "id": "d6855771",
   "metadata": {},
   "outputs": [
    {
     "data": {
      "text/plain": [
       "0.7724137931034484"
      ]
     },
     "execution_count": 202,
     "metadata": {},
     "output_type": "execute_result"
    }
   ],
   "source": [
    "#K-FOLD CROSS-VALIDATION\n",
    "from sklearn.model_selection import cross_val_score\n",
    "scores=cross_val_score(dtc,X_train,y_train, cv=10)\n",
    "scores\n",
    "scores.mean()"
   ]
  },
  {
   "cell_type": "code",
   "execution_count": 203,
   "id": "3206d763",
   "metadata": {},
   "outputs": [
    {
     "data": {
      "text/plain": [
       "RandomForestClassifier(n_estimators=10)"
      ]
     },
     "execution_count": 203,
     "metadata": {},
     "output_type": "execute_result"
    }
   ],
   "source": [
    "#5-RandomForestClassifier\n",
    "from sklearn.ensemble import RandomForestClassifier\n",
    "rfc=RandomForestClassifier(n_estimators=10,criterion='gini')\n",
    "rfc.fit(X_train,y_train)"
   ]
  },
  {
   "cell_type": "code",
   "execution_count": 204,
   "id": "4f8535fb",
   "metadata": {},
   "outputs": [
    {
     "data": {
      "image/png": "[encoded data removed]",
      "text/plain": [
       "<Figure size 432x288 with 2 Axes>"
      ]
     },
     "metadata": {
      "needs_background": "light"
     },
     "output_type": "display_data"
    },
    {
     "name": "stdout",
     "output_type": "stream",
     "text": [
      "accuracy degeri : 0.7655172413793103\n",
      "              precision    recall  f1-score   support\n",
      "\n",
      "           0       1.00      1.00      1.00        12\n",
      "           1       0.83      0.77      0.80        87\n",
      "           2       0.62      0.70      0.65        46\n",
      "\n",
      "    accuracy                           0.77       145\n",
      "   macro avg       0.81      0.82      0.82       145\n",
      "weighted avg       0.77      0.77      0.77       145\n",
      "\n"
     ]
    }
   ],
   "source": [
    "y_pred=dtc.predict(X_test)\n",
    "cm=confusion_matrix(y_test,y_pred)\n",
    "disp = ConfusionMatrixDisplay(confusion_matrix=cm,display_labels=rfc.classes_)\n",
    "disp.plot()\n",
    "plt.show()\n",
    "print('accuracy degeri :', accuracy_score(y_test, y_pred))\n",
    "print(classification_report(y_test,y_pred))"
   ]
  },
  {
   "cell_type": "code",
   "execution_count": 205,
   "id": "f1e71c03",
   "metadata": {},
   "outputs": [
    {
     "data": {
      "text/plain": [
       "0.7827586206896552"
      ]
     },
     "execution_count": 205,
     "metadata": {},
     "output_type": "execute_result"
    }
   ],
   "source": [
    "#K-FOLD CROSS-VALIDATION\n",
    "from sklearn.model_selection import cross_val_score\n",
    "scores=cross_val_score(rfc,X_train,y_train, cv=10)\n",
    "scores\n",
    "scores.mean()"
   ]
  },
  {
   "cell_type": "code",
   "execution_count": null,
   "id": "f2654720",
   "metadata": {},
   "outputs": [],
   "source": []
  }
 ],
 "metadata": {
  "kernelspec": {
   "display_name": "Python 3 (ipykernel)",
   "language": "python",
   "name": "python3"
  },
  "language_info": {
   "codemirror_mode": {
    "name": "ipython",
    "version": 3
   },
   "file_extension": ".py",
   "mimetype": "text/x-python",
   "name": "python",
   "nbconvert_exporter": "python",
   "pygments_lexer": "ipython3",
   "version": "3.9.7"
  }
 },
 "nbformat": 4,
 "nbformat_minor": 5
}
